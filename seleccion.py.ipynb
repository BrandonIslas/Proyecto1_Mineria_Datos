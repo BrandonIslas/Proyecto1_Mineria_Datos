{
 "cells": [
  {
   "cell_type": "code",
   "execution_count": 6,
   "metadata": {},
   "outputs": [],
   "source": [
    "import pandas as pd\n",
    "dataframe_general= pd.read_csv('visita19.csv')\n",
    "def seleccion():\n",
    "    predataframe1=dataframe_general.iloc [:, [1,4,5,11,13,17,18,19,21]]\n",
    "    predaraframe2=dataframe_general.iloc [:, 23:66] \n",
    "    dataframe_seleccion= pd.concat([predataframe1,predaraframe2], axis=1)\n",
    "    return dataframe_seleccion\n"
   ]
  }
 ],
 "metadata": {
  "kernelspec": {
   "display_name": "Python 3",
   "language": "python",
   "name": "python3"
  },
  "language_info": {
   "codemirror_mode": {
    "name": "ipython",
    "version": 3
   },
   "file_extension": ".py",
   "mimetype": "text/x-python",
   "name": "python",
   "nbconvert_exporter": "python",
   "pygments_lexer": "ipython3",
   "version": "3.8.3"
  }
 },
 "nbformat": 4,
 "nbformat_minor": 4
}
