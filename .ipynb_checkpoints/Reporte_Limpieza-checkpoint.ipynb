{
 "cells": [
  {
   "cell_type": "markdown",
   "metadata": {},
   "source": [
    "# Limpieza de Datos de visitas19"
   ]
  },
  {
   "cell_type": "markdown",
   "metadata": {},
   "source": [
    "### Librerias"
   ]
  },
  {
   "cell_type": "code",
   "execution_count": 1,
   "metadata": {},
   "outputs": [],
   "source": [
    "import pandas as pd"
   ]
  },
  {
   "cell_type": "markdown",
   "metadata": {},
   "source": [
    "### Lectura del archivo visitas.csv"
   ]
  },
  {
   "cell_type": "code",
   "execution_count": 2,
   "metadata": {},
   "outputs": [],
   "source": [
    "dataframe_general= pd.read_csv('visita19.csv')"
   ]
  },
  {
   "cell_type": "markdown",
   "metadata": {},
   "source": [
    "### Selección de columnas"
   ]
  },
  {
   "cell_type": "code",
   "execution_count": 3,
   "metadata": {},
   "outputs": [],
   "source": [
    "predataframe1=dataframe_general.iloc [:, [1,4,5,11,13,17,18,19,21]]\n",
    "predaraframe2=dataframe_general.iloc [:, 23:66] \n",
    "dataframe_seleccion= pd.concat([predataframe1,predaraframe2], axis=1)"
   ]
  },
  {
   "cell_type": "markdown",
   "metadata": {},
   "source": [
    "### Proceso de limpieza de datos"
   ]
  },
  {
   "cell_type": "code",
   "execution_count": 4,
   "metadata": {},
   "outputs": [],
   "source": [
    "#Para VISIT_ANIO\n",
    "aux=dataframe_seleccion['VISIT_ANIO,C,2'].dropna()\n",
    "dataframe_seleccion['VISIT_ANIO,C,2'].fillna(round(aux.mean()), inplace=True)\n",
    "#Para MEDIO_2\n",
    "aux=dataframe_seleccion['MEDIO_2,C,2'].dropna()\n",
    "dataframe_seleccion['MEDIO_2,C,2'].fillna(round(aux.mean()), inplace=True)\n",
    "#Para TAM_GRUPO\n",
    "aux=dataframe_seleccion['TAM_GRUPO,C,3'].dropna()\n",
    "dataframe_seleccion['TAM_GRUPO,C,3'].fillna(round(aux.mean()), inplace=True)\n",
    "#Para MENORES\n",
    "aux=dataframe_seleccion['MENORES_12,C,3'].dropna()\n",
    "dataframe_seleccion['MENORES_12,C,3'].fillna(round(aux.mean()), inplace=True)\n",
    "#Para NIV_APREND\n",
    "aux=dataframe_seleccion['NIV_APREND,C,2'].dropna()\n",
    "dataframe_seleccion['NIV_APREND,C,2'].fillna(round(aux.mean()), inplace=True)\n",
    "#print(dataframe_seleccion.isnull().sum())"
   ]
  },
  {
   "cell_type": "markdown",
   "metadata": {},
   "source": [
    "### Visualización de algunos datos estadisticos"
   ]
  },
  {
   "cell_type": "code",
   "execution_count": 5,
   "metadata": {},
   "outputs": [
    {
     "name": "stdout",
     "output_type": "stream",
     "text": [
      "       ENT_REGIS,C,2     SEXO,N,1,0     EDAD,N,2,0  ESCOLARIDA,N,2,0  \\\n",
      "count  186125.000000  186125.000000  186125.000000     186125.000000   \n",
      "mean       15.064296       1.531696      34.479807          8.270705   \n",
      "std         7.848750       0.498996      15.614473          7.885245   \n",
      "min         1.000000       1.000000      12.000000          1.000000   \n",
      "25%         9.000000       1.000000      22.000000          7.000000   \n",
      "50%        14.000000       2.000000      31.000000          9.000000   \n",
      "75%        21.000000       2.000000      44.000000          9.000000   \n",
      "max        32.000000       2.000000      99.000000         99.000000   \n",
      "\n",
      "       OCUPACION,N,2,0  ESTIM_FAM,N,1,0  PRIM_VISIT,N,1,0  VISIT_ANIO,C,2  \\\n",
      "count    186125.000000    186125.000000     186125.000000   186125.000000   \n",
      "mean         14.959645         1.344537          1.315745        5.077738   \n",
      "std          26.501457         0.614144          0.662797        9.159924   \n",
      "min           1.000000         1.000000          1.000000        0.000000   \n",
      "25%           2.000000         1.000000          1.000000        5.000000   \n",
      "50%          11.000000         1.000000          1.000000        5.000000   \n",
      "75%          11.000000         2.000000          2.000000        5.000000   \n",
      "max          99.000000         9.000000          9.000000       99.000000   \n",
      "\n",
      "       VIS_OTROS,N,1,0    MEDIO_1,C,2  ...  SU_BIBLIOT,N,1,0  \\\n",
      "count    186125.000000  186125.000000  ...     186125.000000   \n",
      "mean          1.324062       4.798377  ...          0.036766   \n",
      "std           0.736742       5.406857  ...          0.188186   \n",
      "min           1.000000       1.000000  ...          0.000000   \n",
      "25%           1.000000       2.000000  ...          0.000000   \n",
      "50%           1.000000       3.000000  ...          0.000000   \n",
      "75%           2.000000       6.000000  ...          0.000000   \n",
      "max           9.000000      99.000000  ...          1.000000   \n",
      "\n",
      "       SU_ARCHIVO,N,1,0  SU_SILLA,N,1,0  SU_OTRO,N,1,0  OPIN_EXPOS,N,1,0  \\\n",
      "count     186125.000000   186125.000000  186125.000000     186125.000000   \n",
      "mean           0.024064        0.002643       0.024457          1.429588   \n",
      "std            0.153250        0.051346       0.154463          0.844712   \n",
      "min            0.000000        0.000000       0.000000          1.000000   \n",
      "25%            0.000000        0.000000       0.000000          1.000000   \n",
      "50%            0.000000        0.000000       0.000000          1.000000   \n",
      "75%            0.000000        0.000000       0.000000          2.000000   \n",
      "max            1.000000        1.000000       1.000000          9.000000   \n",
      "\n",
      "       NIV_APREND,C,2  DUR_VIS_H,N,2,0  DUR_VIS_M,N,2,0  REPETIR_VI,N,1,0  \\\n",
      "count   186125.000000    186125.000000    186125.000000      186125.00000   \n",
      "mean         9.085598         0.992715        22.609257           1.04901   \n",
      "std          3.214559         5.701221        16.510811           0.51570   \n",
      "min          0.000000         0.000000         0.000000           1.00000   \n",
      "25%          8.000000         0.000000         8.000000           1.00000   \n",
      "50%          9.000000         0.000000        25.000000           1.00000   \n",
      "75%         10.000000         1.000000        30.000000           1.00000   \n",
      "max         99.000000        99.000000        99.000000           9.00000   \n",
      "\n",
      "       RECOMIE_VI,N,2,0  \n",
      "count     186125.000000  \n",
      "mean          13.035562  \n",
      "std            5.089405  \n",
      "min           11.000000  \n",
      "25%           12.000000  \n",
      "50%           13.000000  \n",
      "75%           14.000000  \n",
      "max           99.000000  \n",
      "\n",
      "[8 rows x 52 columns]\n"
     ]
    }
   ],
   "source": [
    "dataframeDatosDescriptivos= dataframe_seleccion.describe()\n",
    "print(dataframeDatosDescriptivos)"
   ]
  },
  {
   "cell_type": "code",
   "execution_count": 28,
   "metadata": {},
   "outputs": [
    {
     "data": {
      "text/plain": [
       "ENT_REGIS,C,2          61.602875\n",
       "SEXO,N,1,0              0.248997\n",
       "EDAD,N,2,0            243.811767\n",
       "ESCOLARIDA,N,2,0       62.177094\n",
       "OCUPACION,N,2,0       702.327211\n",
       "ESTIM_FAM,N,1,0         0.377173\n",
       "PRIM_VISIT,N,1,0        0.439300\n",
       "VISIT_ANIO,C,2         83.904205\n",
       "VIS_OTROS,N,1,0         0.542788\n",
       "MEDIO_1,C,2            29.234106\n",
       "MEDIO_2,C,2             1.444927\n",
       "PLAN_VISIT,N,1,0        0.605325\n",
       "MV_ACOMP,N,1,0          0.180822\n",
       "MV_CULTURA,N,1,0        0.236586\n",
       "MV_APREND,N,1,0         0.205934\n",
       "MV_ESCOLAR,N,1,0        0.116898\n",
       "MV_LABORAL,N,1,0        0.026798\n",
       "MV_CONOCER,N,1,0        0.190489\n",
       "MV_ENTRETE,N,1,0        0.148505\n",
       "MV_EDIFICI,N,1,0        0.106538\n",
       "MV_TALLER,N,1,0         0.022297\n",
       "MV_OTRO,N,1,0           0.007058\n",
       "MEDIO_TRAN,N,1,0        3.359217\n",
       "TIEMPO_TRA,N,1,0        3.336176\n",
       "TIPO_ENTRA,N,1,0        0.280603\n",
       "PAV_NADIE,N,1,0         0.107148\n",
       "PAV_FAMILI,N,1,0        0.248306\n",
       "PAV_PAREJA,N,1,0        0.121510\n",
       "PAV_AMIGO,N,1,0         0.162409\n",
       "PAV_COMPA,N,1,0         0.024737\n",
       "PAV_ESCOLA,N,1,0        0.060859\n",
       "PAV_TURIST,N,1,0        0.015650\n",
       "PAV_OTRO,N,1,0          0.008998\n",
       "TAM_GRUPO,C,3       13322.350457\n",
       "MENORES_12,C,3      13291.846578\n",
       "SU_SALAS,N,1,0          0.080243\n",
       "SU_TIENDA,N,1,0         0.137392\n",
       "SU_VISGUIA,N,1,0        0.219083\n",
       "SU_AUDIOG,N,1,0         0.027097\n",
       "SU_TALLER,N,1,0         0.049934\n",
       "SU_ACADEM,N,1,0         0.017364\n",
       "SU_ACULTUR,N,1,0        0.045351\n",
       "SU_BIBLIOT,N,1,0        0.035414\n",
       "SU_ARCHIVO,N,1,0        0.023486\n",
       "SU_SILLA,N,1,0          0.002636\n",
       "SU_OTRO,N,1,0           0.023859\n",
       "OPIN_EXPOS,N,1,0        0.713538\n",
       "NIV_APREND,C,2         10.333392\n",
       "DUR_VIS_H,N,2,0        32.503923\n",
       "DUR_VIS_M,N,2,0       272.606872\n",
       "REPETIR_VI,N,1,0        0.265946\n",
       "RECOMIE_VI,N,2,0       25.902042\n",
       "dtype: float64"
      ]
     },
     "execution_count": 28,
     "metadata": {},
     "output_type": "execute_result"
    }
   ],
   "source": [
    "dataframe_seleccion.var()"
   ]
  },
  {
   "cell_type": "code",
   "execution_count": 29,
   "metadata": {},
   "outputs": [
    {
     "data": {
      "text/html": [
       "<div>\n",
       "<style scoped>\n",
       "    .dataframe tbody tr th:only-of-type {\n",
       "        vertical-align: middle;\n",
       "    }\n",
       "\n",
       "    .dataframe tbody tr th {\n",
       "        vertical-align: top;\n",
       "    }\n",
       "\n",
       "    .dataframe thead th {\n",
       "        text-align: right;\n",
       "    }\n",
       "</style>\n",
       "<table border=\"1\" class=\"dataframe\">\n",
       "  <thead>\n",
       "    <tr style=\"text-align: right;\">\n",
       "      <th></th>\n",
       "      <th>ENT_REGIS,C,2</th>\n",
       "      <th>SEXO,N,1,0</th>\n",
       "      <th>EDAD,N,2,0</th>\n",
       "      <th>ESCOLARIDA,N,2,0</th>\n",
       "      <th>OCUPACION,N,2,0</th>\n",
       "      <th>ESTIM_FAM,N,1,0</th>\n",
       "      <th>PRIM_VISIT,N,1,0</th>\n",
       "      <th>VISIT_ANIO,C,2</th>\n",
       "      <th>VIS_OTROS,N,1,0</th>\n",
       "      <th>MEDIO_1,C,2</th>\n",
       "      <th>...</th>\n",
       "      <th>SU_BIBLIOT,N,1,0</th>\n",
       "      <th>SU_ARCHIVO,N,1,0</th>\n",
       "      <th>SU_SILLA,N,1,0</th>\n",
       "      <th>SU_OTRO,N,1,0</th>\n",
       "      <th>OPIN_EXPOS,N,1,0</th>\n",
       "      <th>NIV_APREND,C,2</th>\n",
       "      <th>DUR_VIS_H,N,2,0</th>\n",
       "      <th>DUR_VIS_M,N,2,0</th>\n",
       "      <th>REPETIR_VI,N,1,0</th>\n",
       "      <th>RECOMIE_VI,N,2,0</th>\n",
       "    </tr>\n",
       "  </thead>\n",
       "  <tbody>\n",
       "    <tr>\n",
       "      <th>0</th>\n",
       "      <td>9</td>\n",
       "      <td>2</td>\n",
       "      <td>18</td>\n",
       "      <td>9</td>\n",
       "      <td>11</td>\n",
       "      <td>1</td>\n",
       "      <td>1</td>\n",
       "      <td>5.0</td>\n",
       "      <td>1</td>\n",
       "      <td>3</td>\n",
       "      <td>...</td>\n",
       "      <td>0</td>\n",
       "      <td>0</td>\n",
       "      <td>0</td>\n",
       "      <td>0</td>\n",
       "      <td>1</td>\n",
       "      <td>10.0</td>\n",
       "      <td>0</td>\n",
       "      <td>30</td>\n",
       "      <td>1</td>\n",
       "      <td>13</td>\n",
       "    </tr>\n",
       "  </tbody>\n",
       "</table>\n",
       "<p>1 rows × 52 columns</p>\n",
       "</div>"
      ],
      "text/plain": [
       "   ENT_REGIS,C,2  SEXO,N,1,0  EDAD,N,2,0  ESCOLARIDA,N,2,0  OCUPACION,N,2,0  \\\n",
       "0              9           2          18                 9               11   \n",
       "\n",
       "   ESTIM_FAM,N,1,0  PRIM_VISIT,N,1,0  VISIT_ANIO,C,2  VIS_OTROS,N,1,0  \\\n",
       "0                1                 1             5.0                1   \n",
       "\n",
       "   MEDIO_1,C,2  ...  SU_BIBLIOT,N,1,0  SU_ARCHIVO,N,1,0  SU_SILLA,N,1,0  \\\n",
       "0            3  ...                 0                 0               0   \n",
       "\n",
       "   SU_OTRO,N,1,0  OPIN_EXPOS,N,1,0  NIV_APREND,C,2  DUR_VIS_H,N,2,0  \\\n",
       "0              0                 1            10.0                0   \n",
       "\n",
       "   DUR_VIS_M,N,2,0  REPETIR_VI,N,1,0  RECOMIE_VI,N,2,0  \n",
       "0               30                 1                13  \n",
       "\n",
       "[1 rows x 52 columns]"
      ]
     },
     "execution_count": 29,
     "metadata": {},
     "output_type": "execute_result"
    }
   ],
   "source": [
    "dataframe_seleccion.mode()"
   ]
  },
  {
   "cell_type": "code",
   "execution_count": 30,
   "metadata": {},
   "outputs": [
    {
     "data": {
      "text/plain": [
       "ENT_REGIS,C,2       14.0\n",
       "SEXO,N,1,0           2.0\n",
       "EDAD,N,2,0          31.0\n",
       "ESCOLARIDA,N,2,0     9.0\n",
       "OCUPACION,N,2,0     11.0\n",
       "ESTIM_FAM,N,1,0      1.0\n",
       "PRIM_VISIT,N,1,0     1.0\n",
       "VISIT_ANIO,C,2       5.0\n",
       "VIS_OTROS,N,1,0      1.0\n",
       "MEDIO_1,C,2          3.0\n",
       "MEDIO_2,C,2          6.0\n",
       "PLAN_VISIT,N,1,0     1.0\n",
       "MV_ACOMP,N,1,0       0.0\n",
       "MV_CULTURA,N,1,0     0.0\n",
       "MV_APREND,N,1,0      0.0\n",
       "MV_ESCOLAR,N,1,0     0.0\n",
       "MV_LABORAL,N,1,0     0.0\n",
       "MV_CONOCER,N,1,0     0.0\n",
       "MV_ENTRETE,N,1,0     0.0\n",
       "MV_EDIFICI,N,1,0     0.0\n",
       "MV_TALLER,N,1,0      0.0\n",
       "MV_OTRO,N,1,0        0.0\n",
       "MEDIO_TRAN,N,1,0     2.0\n",
       "TIEMPO_TRA,N,1,0     1.0\n",
       "TIPO_ENTRA,N,1,0     2.0\n",
       "PAV_NADIE,N,1,0      0.0\n",
       "PAV_FAMILI,N,1,0     0.0\n",
       "PAV_PAREJA,N,1,0     0.0\n",
       "PAV_AMIGO,N,1,0      0.0\n",
       "PAV_COMPA,N,1,0      0.0\n",
       "PAV_ESCOLA,N,1,0     0.0\n",
       "PAV_TURIST,N,1,0     0.0\n",
       "PAV_OTRO,N,1,0       0.0\n",
       "TAM_GRUPO,C,3        3.0\n",
       "MENORES_12,C,3       0.0\n",
       "SU_SALAS,N,1,0       1.0\n",
       "SU_TIENDA,N,1,0      0.0\n",
       "SU_VISGUIA,N,1,0     0.0\n",
       "SU_AUDIOG,N,1,0      0.0\n",
       "SU_TALLER,N,1,0      0.0\n",
       "SU_ACADEM,N,1,0      0.0\n",
       "SU_ACULTUR,N,1,0     0.0\n",
       "SU_BIBLIOT,N,1,0     0.0\n",
       "SU_ARCHIVO,N,1,0     0.0\n",
       "SU_SILLA,N,1,0       0.0\n",
       "SU_OTRO,N,1,0        0.0\n",
       "OPIN_EXPOS,N,1,0     1.0\n",
       "NIV_APREND,C,2       9.0\n",
       "DUR_VIS_H,N,2,0      0.0\n",
       "DUR_VIS_M,N,2,0     25.0\n",
       "REPETIR_VI,N,1,0     1.0\n",
       "RECOMIE_VI,N,2,0    13.0\n",
       "dtype: float64"
      ]
     },
     "execution_count": 30,
     "metadata": {},
     "output_type": "execute_result"
    }
   ],
   "source": [
    "dataframe_seleccion.median()"
   ]
  },
  {
   "cell_type": "markdown",
   "metadata": {},
   "source": [
    "### Graficos"
   ]
  },
  {
   "cell_type": "code",
   "execution_count": 31,
   "metadata": {},
   "outputs": [
    {
     "data": {
      "text/plain": [
       "<matplotlib.axes._subplots.AxesSubplot at 0x249842dc3d0>"
      ]
     },
     "execution_count": 31,
     "metadata": {},
     "output_type": "execute_result"
    },
    {
     "data": {
      "image/png": "[encoded data removed]",
      "text/plain": [
       "<Figure size 432x288 with 1 Axes>"
      ]
     },
     "metadata": {
      "needs_background": "light"
     },
     "output_type": "display_data"
    }
   ],
   "source": [
    "dataframe_seleccion.iloc [:,0:51].plot.box() "
   ]
  }
 ],
 "metadata": {
  "kernelspec": {
   "display_name": "Python 3",
   "language": "python",
   "name": "python3"
  },
  "language_info": {
   "codemirror_mode": {
    "name": "ipython",
    "version": 3
   },
   "file_extension": ".py",
   "mimetype": "text/x-python",
   "name": "python",
   "nbconvert_exporter": "python",
   "pygments_lexer": "ipython3",
   "version": "3.8.3"
  }
 },
 "nbformat": 4,
 "nbformat_minor": 4
}
