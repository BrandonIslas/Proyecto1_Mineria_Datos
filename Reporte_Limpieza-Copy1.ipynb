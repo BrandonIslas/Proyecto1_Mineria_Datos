{
 "cells": [
  {
   "cell_type": "markdown",
   "metadata": {},
   "source": [
    "# Limpieza de Datos de visitas19"
   ]
  },
  {
   "cell_type": "markdown",
   "metadata": {},
   "source": [
    "### Librerias"
   ]
  },
  {
   "cell_type": "code",
   "execution_count": 1,
   "metadata": {},
   "outputs": [],
   "source": [
    "import pandas as pd\n",
    "import matplotlib.pyplot as plt"
   ]
  },
  {
   "cell_type": "code",
   "execution_count": 4,
   "metadata": {},
   "outputs": [
    {
     "data": {
      "text/plain": [
       "{1: 'Ninguna',\n",
       " 2: 'Preescolar',\n",
       " 3: 'Primaria',\n",
       " 4: 'Secuandaria',\n",
       " 5: 'Estudios técnicos con secundaria terminada',\n",
       " 6: 'Normal básica',\n",
       " 7: 'Preparatoria o bachillerato',\n",
       " 8: 'Estudios técnicos con preparatoria terminada',\n",
       " 9: 'Licenciatura',\n",
       " 10: 'Maestría o doctorado',\n",
       " 99: 'No especifica'}"
      ]
     },
     "execution_count": 4,
     "metadata": {},
     "output_type": "execute_result"
    }
   ],
   "source": [
    "sexo= {1:\"Mujer\", 2:\"Hombre\"}\n",
    "escolaridad= {1:\"Ninguna\",2:\"Preescolar\",3:\"Primaria\", 4:\"Secuandaria\", 5:\"Estudios técnicos con secundaria terminada\", 6:\"Normal básica\", 7:\"Preparatoria o bachillerato\", 8:\"Estudios técnicos con preparatoria terminada\", 9:\"Licenciatura\", 10:\"Maestría o doctorado\", 99:\"No especifica\"}\n",
    "generico={1:\"Si\", 2:\"No\", 99:\"No especifica\"}\n",
    "ocupacion={1:\"Funcionarios, directores y jefes\", 2:\"Profesionistas y técnicos\", 3:\"Trabajadores auxiliares en actividades administrativas\",\n",
    "          4:\"Comerciantes, empleados en ventas y agentes de ventas\", 5:\"Trabajadores en servicios personales y vigilancia\",6:\"Trabajadores en actividades agrícolas, ganaderas, forestales, caza y pesca\",\n",
    "          7:\"Trabajadores artesanales\",8:\"Operadores de maquinaria industrial, ensambladores, choferes y conductores de transporte\", 9:\"Trabajadores en actividades elementales y de apoyo\", \n",
    "          10:\"Busca trabajo\", 11:\"No trabaja\", 98:\"Insuficientemente especificada\", 99:\"No especificada\"}\n",
    "medio_e={1:\"Maestro, compañeros de estudio o libros de texto\", 2:\"Conoce desde siempre este lugar\",3:\"Amigos, familiares o conocidos\",\n",
    "        4:\"Por la televisión\", 5:\"Folleto, espectacular, anuncio o volante\", 6:\"Internet\", 7:\"Oficina turística o viaje turístico\", 8:\"Por la radio\",\n",
    "        9:\"Periódico, revista o libro\", 10:\"Redes sociales\", 11:\"Por casualidad\", 12:\"Otro\", 99:\"No especificado\"}\n",
    "medio_t={1:\"Vehículo particular\", 2:\"Transporte público\", 3:\"Transporte turístico\", 4:\"Taxi\", 5:\"Bicicleta\",6:\"Caminando\", 7:\"Otro\", 9:\"No especificado\"}\n",
    "timpo_t={1:\"De 1 a 30 min\", 2:\"De 31 min a 1h\", 3:\"De 1.01 a 1.30 h\", 4:\"De 1.31 a 2 h\", 5:\"De 2.01 a 3 h\", 6:\"De 3.01 a 4 h\", 7:\"De 4.01 a 5 h\",\n",
    "        8:\"De 5.01 y más\", 9: \"No especificado\"}\n",
    "ent_regis = {1:\"Aguascalientes\", 2:\"Baja California\",3:\"Baja California Sur\", 4:\"Campeche\", 5:\"Campeche\", 6:\"Colima\", 7:\"Colima\", \n",
    "             8:\"Chihuahua\", 9:\"Ciudad de México\", 10:\"Durango\", 11:\"Guanajuato\", 12:\"Guerrero\", 13:\"Hidalgo\", 14:\"Jalisco\", \n",
    "             15:\"México\", 16:\"Michoacán de Ocampo\", 17:\"Morelos\", 18:\"Nayarit\", 19:\"Nuevo León\", 20:\"Oaxaca\",21:\"Puebla\", \n",
    "             22:\"Querétaro\", 23:\"Quintana Roo\", 24:\"San Luis Potosí\", 25:\"Sinaloa\", 26:\"Sonora\", 27:\"Sonora\", 28:\"Tamaulipas\", \n",
    "             29:\"Tlaxcala\", 30:\"Veracruz de Ignacio de la Llave\", 31:\"Yucatán\", 32:\"Zacatecas\", 33:\"Extranjera\", 99:\"No especificada\"}\n"
   ]
  },
  {
   "cell_type": "markdown",
   "metadata": {},
   "source": [
    "### Selección de columnas"
   ]
  },
  {
   "cell_type": "code",
   "execution_count": 3,
   "metadata": {},
   "outputs": [],
   "source": [
    "predataframe1=dataframe_general.iloc [:, [1,4,5,11,13,17,18,19,21]]\n",
    "predaraframe2=dataframe_general.iloc [:, 23:66] \n",
    "dataframe_seleccion= pd.concat([predataframe1,predaraframe2], axis=1)"
   ]
  }
 ],
 "metadata": {
  "kernelspec": {
   "display_name": "Python 3",
   "language": "python",
   "name": "python3"
  },
  "language_info": {
   "codemirror_mode": {
    "name": "ipython",
    "version": 3
   },
   "file_extension": ".py",
   "mimetype": "text/x-python",
   "name": "python",
   "nbconvert_exporter": "python",
   "pygments_lexer": "ipython3",
   "version": "3.8.3"
  }
 },
 "nbformat": 4,
 "nbformat_minor": 4
}
